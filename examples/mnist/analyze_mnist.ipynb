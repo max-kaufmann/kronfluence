{
 "cells": [
  {
   "cell_type": "markdown",
   "metadata": {},
   "source": [
    "# Influence Analysis on MNIST"
   ]
  },
  {
   "cell_type": "markdown",
   "metadata": {},
   "source": [
    "## Setup "
   ]
  },
  {
   "cell_type": "code",
   "execution_count": 1,
   "metadata": {},
   "outputs": [],
   "source": [
    "import argparse\n",
    "import logging\n",
    "import os\n",
    "from typing import Tuple\n",
    "from typing import Literal\n",
    "import torch\n",
    "import torch.nn.functional as F\n",
    "from torch import nn\n",
    "import torchvision\n",
    "\n",
    "from kronfluence.analyzer import Analyzer, prepare_model\n",
    "from kronfluence.arguments import FactorArguments, ScoreArguments\n",
    "from kronfluence.task import Task\n",
    "from kronfluence.utils.common.factor_arguments import all_low_precision_factor_arguments\n",
    "from kronfluence.utils.common.score_arguments import all_low_precision_score_arguments\n",
    "from kronfluence.utils.dataset import DataLoaderKwargs\n",
    "from examples.mnist.pipeline import get_mnist_dataset, construct_mnist_classifier, add_box_to_mnist_dataset\n",
    "import numpy as np\n",
    "from matplotlib import pyplot as plt\n",
    "from typing import Sequence\n",
    "import math\n",
    "from tqdm import tqdm\n",
    "from copy import deepcopy\n",
    "from collections import defaultdict"
   ]
  },
  {
   "cell_type": "markdown",
   "metadata": {},
   "source": [
    "## Analysis"
   ]
  },
  {
   "cell_type": "markdown",
   "metadata": {},
   "source": [
    "### Task"
   ]
  },
  {
   "cell_type": "code",
   "execution_count": 2,
   "metadata": {},
   "outputs": [],
   "source": [
    "BATCH_TYPE = Tuple[torch.Tensor, torch.Tensor]\n",
    "\n",
    "\n",
    "class ClassificationTask(Task):\n",
    "    def compute_train_loss(\n",
    "        self,\n",
    "        batch: BATCH_TYPE,\n",
    "        model: nn.Module,\n",
    "        sample: bool = False,\n",
    "    ) -> torch.Tensor:\n",
    "        inputs, labels = batch\n",
    "        logits = model(inputs)\n",
    "        if not sample:\n",
    "            return F.cross_entropy(logits, labels, reduction=\"sum\")\n",
    "        with torch.no_grad():\n",
    "            probs = torch.nn.functional.softmax(logits.detach(), dim=-1)\n",
    "            sampled_labels = torch.multinomial(\n",
    "                probs,\n",
    "                num_samples=1,\n",
    "            ).flatten()\n",
    "        return F.cross_entropy(logits, sampled_labels, reduction=\"sum\")\n",
    "\n",
    "    def compute_measurement(\n",
    "        self,\n",
    "        batch: BATCH_TYPE,\n",
    "        model: nn.Module,\n",
    "    ) -> torch.Tensor:\n",
    "        # Copied from: https://github.com/MadryLab/trak/blob/main/trak/modelout_functions.py. Returns the margin between the correct logit and the second most likely prediction\n",
    "        inputs, labels = batch\n",
    "        logits = model(inputs)\n",
    "\n",
    "        # Get correct logit values\n",
    "        bindex = torch.arange(logits.shape[0]).to(device=logits.device, non_blocking=False)\n",
    "        logits_correct = logits[bindex, labels]\n",
    "\n",
    "        # Get the other logits, and take the softmax of them\n",
    "        cloned_logits = logits.clone()\n",
    "        cloned_logits[bindex, labels] = torch.tensor(-torch.inf, device=logits.device, dtype=logits.dtype)\n",
    "        maximum_non_correct_logits = cloned_logits.logsumexp(dim=-1)\n",
    "\n",
    "        # Look at the  margin, the difference between the correct logits and the (soft) maximum non-correctl logits\n",
    "        margins = logits_correct - maximum_non_correct_logits\n",
    "        return -margins.sum()"
   ]
  },
  {
   "cell_type": "markdown",
   "metadata": {},
   "source": [
    "## Analysis"
   ]
  },
  {
   "cell_type": "code",
   "execution_count": 3,
   "metadata": {},
   "outputs": [],
   "source": [
    "dataset_dir = \"/h/maxk/kronfluence/data\"\n",
    "output_dir = \"/h/maxk/kronfluence/examples/mnist/influence_results\"\n",
    "model_path = \"/h/maxk/kronfluence/checkpoints/model.pth\"\n",
    "factor_strategy: Literal[\"identity\", \"diagonal\", \"kfac\", \"ekfac\"] = \"ekfac\"  # TODO: Add typesc for the\n",
    "profile_computations = False\n",
    "use_half_precision = False\n",
    "query_batch_size = 1500\n",
    "device = torch.device(\"cuda\" if torch.cuda.is_available() else \"cpu\")"
   ]
  },
  {
   "cell_type": "code",
   "execution_count": 4,
   "metadata": {},
   "outputs": [
    {
     "name": "stderr",
     "output_type": "stream",
     "text": [
      "/tmp/ipykernel_16824/4019336476.py:7: FutureWarning: You are using `torch.load` with `weights_only=False` (the current default value), which uses the default pickle module implicitly. It is possible to construct malicious pickle data which will execute arbitrary code during unpickling (See https://github.com/pytorch/pytorch/blob/main/SECURITY.md#untrusted-models for more details). In a future release, the default value for `weights_only` will be flipped to `True`. This limits the functions that could be executed during unpickling. Arbitrary objects will no longer be allowed to be loaded via this mode unless they are explicitly allowlisted by the user via `torch.serialization.add_safe_globals`. We recommend you start setting `weights_only=True` for any use case where you don't have full control of the loaded file. Please open an issue on GitHub for any issues related to this experimental feature.\n",
      "  model.load_state_dict(torch.load(model_path))\n"
     ]
    }
   ],
   "source": [
    "# Prepare the dataset.\n",
    "train_dataset = get_mnist_dataset(split=\"eval_train\", dataset_dir=dataset_dir, in_memory=False)\n",
    "eval_dataset = get_mnist_dataset(split=\"test\", dataset_dir=output_dir, in_memory=False)\n",
    "\n",
    "# Prepare the trained model.\n",
    "model = construct_mnist_classifier()\n",
    "model.load_state_dict(torch.load(model_path))\n",
    "\n",
    "# Define task and prepare model.\n",
    "task = ClassificationTask()"
   ]
  },
  {
   "cell_type": "code",
   "execution_count": 6,
   "metadata": {},
   "outputs": [],
   "source": [
    "# Compute influence factors.\n",
    "def get_pairwise_influence_scores(\n",
    "    train_dataset: torch.utils.data.Dataset = train_dataset,\n",
    "    eval_dataset: torch.utils.data.Dataset = eval_dataset,\n",
    "    model: nn.Module = model,\n",
    "    task: Task = ClassificationTask(),\n",
    ") -> torch.Tensor:\n",
    "    model = prepare_model(model, task)\n",
    "    analyzer = Analyzer(\n",
    "        analysis_name=\"mnist\",\n",
    "        model=model,\n",
    "        task=task,\n",
    "        output_dir=output_dir,\n",
    "        profile=profile_computations,\n",
    "    )\n",
    "    # Configure parameters for DataLoader.\n",
    "    dataloader_kwargs = DataLoaderKwargs(num_workers=4)\n",
    "    analyzer.set_dataloader_kwargs(dataloader_kwargs)\n",
    "\n",
    "    factors_name = factor_strategy\n",
    "    factor_args = FactorArguments(strategy=factor_strategy)\n",
    "    if use_half_precision:\n",
    "        factor_args = all_low_precision_factor_arguments(strategy=factor_strategy, dtype=torch.bfloat16)\n",
    "        factors_name += \"_half\"\n",
    "\n",
    "    analyzer.fit_all_factors(\n",
    "        factors_name=factors_name,\n",
    "        factor_args=factor_args,\n",
    "        dataset=train_dataset,\n",
    "        per_device_batch_size=None,\n",
    "        overwrite_output_dir=False,\n",
    "    )\n",
    "\n",
    "    # Compute pairwise scores.\n",
    "    score_args = ScoreArguments()\n",
    "    scores_name = factor_args.strategy\n",
    "\n",
    "    if use_half_precision:\n",
    "        score_args = all_low_precision_score_arguments(dtype=torch.bfloat16)\n",
    "        scores_name += \"_half\"\n",
    "\n",
    "    analyzer.compute_pairwise_scores(\n",
    "        scores_name=scores_name,\n",
    "        score_args=score_args,\n",
    "        factors_name=factors_name,\n",
    "        query_dataset=eval_dataset,\n",
    "        train_dataset=train_dataset,\n",
    "        per_device_query_batch_size=query_batch_size,\n",
    "        overwrite_output_dir=False,\n",
    "    )\n",
    "\n",
    "    return analyzer.load_pairwise_scores(scores_name=scores_name)[\"all_modules\"]"
   ]
  },
  {
   "cell_type": "code",
   "execution_count": 22,
   "metadata": {},
   "outputs": [],
   "source": [
    "def plot_most_influencial_images(\n",
    "    influence_scores: np.ndarray,\n",
    "    test_dataset: np.ndarray,\n",
    "    train_dataset: np.ndarray,\n",
    "    predictions: np.ndarray,\n",
    "    targets: np.ndarray,\n",
    "    image_idxs: np.ndarray=np.arange(5),  # Images to plot\n",
    "    top_k: int = 5,\n",
    "    test_dataset_subset: Sequence[int] | None = None,\n",
    "    title: str | None = None,\n",
    "):\n",
    "    if test_dataset_subset is not None:\n",
    "        influence_scores = influence_scores[test_dataset_subset]\n",
    "        test_dataset = test_dataset[test_dataset_subset]\n",
    "\n",
    "    images_of_interest = test_dataset[image_idxs]\n",
    "    for image_idx, image in enumerate(images_of_interest):\n",
    "        most_influencial_examples = np.argsort(influence_scores[image_idx])[::-1][:top_k]\n",
    "        plot_list_of_images(\n",
    "            images=[image] + [train_dataset[idx] for idx in most_influencial_examples],\n",
    "            image_titles=[f\"Test Image. Pred: {predictions[image_idx]}. Ground truth: {targets[image_idx]}\"]\n",
    "            + [f\"Train Image {i}\" for i in most_influencial_examples],\n",
    "            fig_title=title,\n",
    "        )\n",
    "        plt.show()\n",
    "\n",
    "\n",
    "def plot_influence_rank_by_class(\n",
    "    influence_scores: np.ndarray,\n",
    "    train_targets: np.ndarray,\n",
    "    image_idxs: np.ndarray | None = None,\n",
    "    base: int = 5,\n",
    "    num_points: int = 10\n",
    "):\n",
    "\n",
    "    if image_idxs is not None:\n",
    "        influence_scores = influence_scores[image_idxs]\n",
    "    \n",
    "    num_training_examples = influence_scores.shape[1]\n",
    "    x_locations = np.logspace(math.log(min(10,num_training_examples),base),math.log(num_training_examples,base),num=num_points, base=base)\n",
    "\n",
    "    x_locations = sorted(set(int(x) - 1 for x in x_locations)) # deduplicate, turn zero-indexed integers\n",
    "\n",
    "\n",
    "    influence_scores_argsort = np.argsort(influence_scores,axis=-1)\n",
    "    targets_sorted_by_scores = train_targets[influence_scores_argsort]\n",
    "    one_hot_targets = np.zeros(targets_sorted_by_scores.shape + (np.max(train_targets) + 1,))\n",
    "    one_hot_targets[np.arange(one_hot_targets.shape[0])[:,None],np.arange(one_hot_targets.shape[1]),targets_sorted_by_scores] = 1\n",
    "    # Sum them across all of the images\n",
    "    classifications_per_image = np.sum(one_hot_targets,axis=0)\n",
    "    class_frequency_per_index = np.cumsum(classifications_per_image,axis=0)\n",
    "    \n",
    "    y_classes = defaultdict(list)\n",
    "    for x in x_locations:\n",
    "        cumulative_sum = class_frequency_per_index[x]\n",
    "        total_examples = sum(cumulative_sum)\n",
    "\n",
    "        for class_num, num_classifications in enumerate(cumulative_sum):\n",
    "            y_classes[class_num].append(num_classifications / total_examples)\n",
    "    \n",
    "    fig, axs = plt.subplots()\n",
    "    for class_num,y_class in y_classes.items():\n",
    "        axs.plot(x_locations,y_class,label=str(class_num))\n",
    "    \n",
    "    print(y_classes)\n",
    "    axs.set_title(\"Proportion of different classes across ranks.\")\n",
    "    axs.set_xticks(x_locations)\n",
    "    axs.legend()\n",
    "    fig.show()\n",
    "\n",
    "def plot_list_of_images(\n",
    "    images: Sequence[np.ndarray], image_titles: Sequence[str] | None = None, fig_title: str | None = None\n",
    "):\n",
    "    images = [image.squeeze() for image in images]\n",
    "\n",
    "    if image_titles is None:\n",
    "        image_titles = [f\"Image {i}\" for i in range(len(images))]\n",
    "\n",
    "    fig, ax = plt.subplots(ncols=len(images), figsize=(5 * len(images), 5))\n",
    "    if len(images) == 1:\n",
    "        ax = [ax]\n",
    "\n",
    "    for i, (image, title) in enumerate(zip(images, image_titles)):\n",
    "        ax[i].imshow(image, cmap=\"gray\")\n",
    "        ax[i].set_title(title)\n",
    "\n",
    "    if fig_title is not None:\n",
    "        fig.suptitle(fig_title)\n",
    "\n",
    "\n",
    "def get_model_predictions(model: torch.nn.Module, dataset: torchvision.datasets.MNIST, batch_size: int = 1024):\n",
    "    dataloader = torch.utils.data.DataLoader(dataset, batch_size=batch_size, shuffle=False)\n",
    "    predictions = []\n",
    "    model.to(device)\n",
    "    model.eval()\n",
    "    for inputs, _ in tqdm(dataloader):\n",
    "        with torch.no_grad():\n",
    "            inputs = inputs.to(device)\n",
    "            logits = model(inputs)\n",
    "            predicted_class = torch.argmax(logits, dim=-1)\n",
    "            predictions.append(predicted_class)\n",
    "    return torch.cat(predictions)\n"
   ]
  },
  {
   "cell_type": "code",
   "execution_count": 19,
   "metadata": {},
   "outputs": [
    {
     "name": "stderr",
     "output_type": "stream",
     "text": [
      "100%|█████████████████████████████████████████████████████████████████████████████████████████████████████████████████████████| 1/1 [00:00<00:00,  3.84it/s]\n"
     ]
    },
    {
     "name": "stdout",
     "output_type": "stream",
     "text": [
      "Accuracy on standard: 0.9890000224113464\n"
     ]
    },
    {
     "name": "stderr",
     "output_type": "stream",
     "text": [
      "100%|█████████████████████████████████████████████████████████████████████████████████████████████████████████████████████████| 1/1 [00:00<00:00,  4.99it/s]\n"
     ]
    },
    {
     "name": "stdout",
     "output_type": "stream",
     "text": [
      "Accuracy on no_white_box: 0.06122448667883873\n"
     ]
    },
    {
     "name": "stderr",
     "output_type": "stream",
     "text": [
      "100%|███████████████████████████████████████████████████████████████████████████████████████████████████████████████████████| 10/10 [00:01<00:00,  5.15it/s]\n"
     ]
    },
    {
     "name": "stdout",
     "output_type": "stream",
     "text": [
      "Accuracy on all_white_box: 0.8209999799728394\n"
     ]
    },
    {
     "name": "stderr",
     "output_type": "stream",
     "text": [
      "100%|█████████████████████████████████████████████████████████████████████████████████████████████████████████████████████████| 1/1 [00:00<00:00, 54.88it/s]"
     ]
    },
    {
     "name": "stdout",
     "output_type": "stream",
     "text": [
      "Accuracy on just_a_white_box: 1.0\n"
     ]
    },
    {
     "name": "stderr",
     "output_type": "stream",
     "text": [
      "\n"
     ]
    }
   ],
   "source": [
    "analysis_dict = defaultdict(dict)\n",
    "\n",
    "eval_dataset_standard = get_mnist_dataset(split=\"test\", dataset_dir=dataset_dir, in_memory=False)\n",
    "eval_dataset_standard.data, eval_dataset_standard.targets = (\n",
    "    eval_dataset_standard.data[:1000],\n",
    "    eval_dataset_standard.targets[:1000],\n",
    ")\n",
    "analysis_dict[\"standard\"][\"dataset\"] = eval_dataset_standard\n",
    "\n",
    "# A dataset of just zeros, without the white box\n",
    "eval_dataset_no_white_box = get_mnist_dataset(\n",
    "    split=\"test\", class_with_box=None, dataset_dir=dataset_dir, in_memory=False\n",
    ")\n",
    "eval_dataset_no_white_box.data, eval_dataset_no_white_box.targets = (\n",
    "    eval_dataset_no_white_box.data[eval_dataset_no_white_box.targets == 0],\n",
    "    eval_dataset_no_white_box.targets[eval_dataset_no_white_box.targets == 0],\n",
    ")\n",
    "analysis_dict[\"no_white_box\"][\"dataset\"] = eval_dataset_no_white_box\n",
    "\n",
    "# A dataset where all the images have a white box in the bottom right\n",
    "eval_dataset_all_white_box = get_mnist_dataset(\n",
    "    split=\"test\", class_with_box=None, dataset_dir=dataset_dir, in_memory=False\n",
    ")\n",
    "for i in range(10):\n",
    "    eval_dataset_all_white_box = add_box_to_mnist_dataset(eval_dataset_all_white_box, class_with_box=i)\n",
    "analysis_dict[\"all_white_box\"][\"dataset\"] = eval_dataset_all_white_box\n",
    "\n",
    "# A dataset with just a single image which has a while box in the bottom right\n",
    "eval_dataset_just_a_white_box = get_mnist_dataset(\n",
    "    split=\"test\", class_with_box=0, dataset_dir=dataset_dir, in_memory=False\n",
    ")\n",
    "eval_dataset_just_a_white_box.data = eval_dataset_just_a_white_box.data[:1]\n",
    "eval_dataset_just_a_white_box.data[:] = 0\n",
    "eval_dataset_just_a_white_box.targets = torch.tensor([0])\n",
    "\n",
    "eval_dataset_just_a_white_box = add_box_to_mnist_dataset(eval_dataset_just_a_white_box, class_with_box=0)\n",
    "\n",
    "analysis_dict[\"just_a_white_box\"][\"dataset\"] = eval_dataset_just_a_white_box\n",
    "\n",
    "\n",
    "for analysis_name, analysis in analysis_dict.items():\n",
    "    dataset = analysis[\"dataset\"]\n",
    "    predictions = get_model_predictions(model, dataset)\n",
    "    analysis[\"predictions\"] = predictions.numpy(force=True).astype(np.uint8)\n",
    "    train_targets = dataset.targets.to(device)\n",
    "    zero_one_loss = predictions == train_targets\n",
    "    print(f\"Accuracy on {analysis_name}: {zero_one_loss.float().mean()}\")\n",
    "\n",
    "    influence_scores = get_pairwise_influence_scores(train_dataset=train_dataset, eval_dataset=dataset)\n",
    "    analysis[\"influence_scores\"] = influence_scores.cpu().numpy()"
   ]
  },
  {
   "cell_type": "code",
   "execution_count": 23,
   "metadata": {},
   "outputs": [
    {
     "name": "stdout",
     "output_type": "stream",
     "text": [
      "Accuracy on standard: 0.989\n"
     ]
    },
    {
     "data": {
      "image/png": "[encoded data removed]",
      "text/plain": [
       "<Figure size 640x480 with 1 Axes>"
      ]
     },
     "metadata": {},
     "output_type": "display_data"
    },
    {
     "name": "stdout",
     "output_type": "stream",
     "text": [
      "defaultdict(<class 'list'>, {0: [np.float64(0.0), np.float64(0.0034965034965034965), np.float64(0.0013175230566534915), np.float64(0.0030135610246107484), np.float64(0.006670478368591576), np.float64(0.01593625498007968), np.float64(0.038473189942441685), np.float64(0.07845622119815668), np.float64(0.12095585599222441), np.float64(0.0987183119718662)], 1: [np.float64(0.2545454545454545), np.float64(0.2517482517482518), np.float64(0.2437417654808959), np.float64(0.23204419889502761), np.float64(0.23346674290070515), np.float64(0.22535313292285403), np.float64(0.21563713475255433), np.float64(0.18888772517804775), np.float64(0.15605755212275238), np.float64(0.11236853947565793)], 2: [np.float64(0.16363636363636364), np.float64(0.14335664335664336), np.float64(0.13306982872200263), np.float64(0.10999497739829231), np.float64(0.08366685725176291), np.float64(0.06780152118797537), np.float64(0.058026493349122854), np.float64(0.05511101801424382), np.float64(0.08880585718724357), np.float64(0.0992986246740476)], 3: [np.float64(0.0), np.float64(0.0), np.float64(0.0013175230566534915), np.float64(0.0030135610246107484), np.float64(0.006098723079855155), np.float64(0.010141253169141615), np.float64(0.014155490071879044), np.float64(0.02193129451193967), np.float64(0.037216880043976705), np.float64(0.10218352124050552)], 4: [np.float64(0.0), np.float64(0.0), np.float64(0.0), np.float64(0.0), np.float64(0.0003811701924909472), np.float64(0.0020282506338283233), np.float64(0.006747266668502658), np.float64(0.022769166317553415), np.float64(0.0609021597979621), np.float64(0.09736828947149119)], 5: [np.float64(0.21818181818181817), np.float64(0.25874125874125875), np.float64(0.25428194993412384), np.float64(0.2501255650426921), np.float64(0.23746902992186011), np.float64(0.22484607026439696), np.float64(0.20073806835394234), np.float64(0.16514453288646838), np.float64(0.13046820850694307), np.float64(0.09035150585843098)], 6: [np.float64(0.01818181818181818), np.float64(0.006993006993006993), np.float64(0.007905138339920948), np.float64(0.013058764439979909), np.float64(0.016199733180865258), np.float64(0.02462875769648678), np.float64(0.03726143592850651), np.float64(0.05950984499371596), np.float64(0.09221962858804503), np.float64(0.09863497724962082)], 7: [np.float64(0.14545454545454545), np.float64(0.11188811188811189), np.float64(0.11462450592885376), np.float64(0.11752887995981919), np.float64(0.12140270630836669), np.float64(0.12234697573342991), np.float64(0.1311448321445292), np.float64(0.1579388353581902), np.float64(0.1515722468750249), np.float64(0.10441537661991336)], 8: [np.float64(0.19090909090909092), np.float64(0.2062937062937063), np.float64(0.2318840579710145), np.float64(0.2531391260673029), np.float64(0.27101200686106347), np.float64(0.2716407098877218), np.float64(0.23485995979179863), np.float64(0.16251571009635526), np.float64(0.08945515093091992), np.float64(0.09751526161799666)], 9: [np.float64(0.00909090909090909), np.float64(0.017482517482517484), np.float64(0.011857707509881422), np.float64(0.01808136614766449), np.float64(0.023632551934438726), np.float64(0.035277073524085475), np.float64(0.06295612899672276), np.float64(0.08773565144532887), np.float64(0.07234645995490795), np.float64(0.09914559182046974)]})\n",
      "Accuracy on no_white_box: 0.061224489795918366\n"
     ]
    },
    {
     "data": {
      "image/png": "[encoded data removed]",
      "text/plain": [
       "<Figure size 640x480 with 1 Axes>"
      ]
     },
     "metadata": {},
     "output_type": "display_data"
    },
    {
     "name": "stdout",
     "output_type": "stream",
     "text": [
      "1735357095.0961316\n",
      "1735357250.183092\n"
     ]
    },
    {
     "ename": "",
     "evalue": "",
     "output_type": "error",
     "traceback": [
      "\u001b[1;31mCanceled future for execute_request message before replies were done"
     ]
    },
    {
     "ename": "",
     "evalue": "",
     "output_type": "error",
     "traceback": [
      "\u001b[1;31mCanceled future for execute_request message before replies were done. \n",
      "\u001b[1;31mView Jupyter <a href='command:jupyter.viewOutput'>log</a> for further details."
     ]
    }
   ],
   "source": [
    "for analysis_name, analysis in analysis_dict.items():\n",
    "    dataset = analysis[\"dataset\"]\n",
    "    predictions = analysis[\"predictions\"]\n",
    "    influence_scores = analysis[\"influence_scores\"]\n",
    "\n",
    "    targets = dataset.targets.numpy(force=True)\n",
    "    data = dataset.data.numpy(force=True)\n",
    "\n",
    "    zero_one_loss = predictions == targets\n",
    "    print(f\"Accuracy on {analysis_name}: {zero_one_loss.mean()}\")\n",
    "\n",
    "    correct_idxs = np.where(zero_one_loss)\n",
    "    incorrect_idxs = np.where(~zero_one_loss)\n",
    "\n",
    "    incorrect_classes = np.bincount(predictions[incorrect_idxs]) / len(predictions)\n",
    "    plt.bar(\n",
    "        list(range(10)),\n",
    "        incorrect_classes,\n",
    "    )\n",
    "    plt.xticks(list(range(10)),[str(x) for x in range(len(incorrect_classes))])\n",
    "    plt.title(f\"Class distribution for incorrect predictions in {analysis_name}\")\n",
    "    plt.show()\n",
    "\n",
    "    # plot_most_influencial_images(\n",
    "    #     image_idxs=torch.arange(1),\n",
    "    #     influence_scores=influence_scores,\n",
    "    #     train_dataset=train_dataset.data,\n",
    "    #     test_dataset=data,\n",
    "    #     predictions=predictions,\n",
    "    #     targets=targets,\n",
    "    #     top_k=5,\n",
    "    #     title=f\"Most influencial images for incorrect classes in {analysis_name}\",\n",
    "    # )\n",
    "\n",
    "    plot_influence_rank_by_class(\n",
    "        influence_scores=influence_scores,\n",
    "        train_targets=train_dataset.targets.numpy(force=True),\n",
    "        base=10,\n",
    "        image_idxs=incorrect_idxs[:100] # First 100 otherwise this calculatoin can be very slow.\n",
    "    )"
   ]
  }
 ],
 "metadata": {
  "kernelspec": {
   "display_name": "Python 3 (ipykernel)",
   "language": "python",
   "name": "python3"
  }
 },
 "nbformat": 4,
 "nbformat_minor": 2
}
